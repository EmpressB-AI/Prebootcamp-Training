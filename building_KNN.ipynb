{
 "cells": [
  {
   "cell_type": "code",
   "execution_count": 1,
   "metadata": {},
   "outputs": [],
   "source": [
    "import numpy as np\n",
    "import pandas as pd\n",
    "import random\n",
    "from math import sqrt\n",
    "import matplotlib.pyplot as plt\n",
    "import warnings\n",
    "warnings.filterwarnings(\"ignore\")\n",
    "from matplotlib import style\n",
    "style.use(\"fivethirtyeight\")\n",
    "%matplotlib inline\n",
    "from collections import Counter"
   ]
  },
  {
   "cell_type": "code",
   "execution_count": 2,
   "metadata": {},
   "outputs": [
    {
     "data": {
      "image/png": "[encoded data removed]",
      "text/plain": [
       "<Figure size 432x288 with 1 Axes>"
      ]
     },
     "metadata": {
      "needs_background": "light"
     },
     "output_type": "display_data"
    }
   ],
   "source": [
    "dataset = {'m':[[1,2],[2,3],[3,1]],'r':[[6,5],[7,7],[8,6]]}\n",
    "new_feature = [5,7]\n",
    "\n",
    "for i in dataset:\n",
    "    for j in dataset[i]:\n",
    "        plt.scatter(j[0],j[1], s=100, color='g') \n",
    "        plt.scatter(new_feature[0],new_feature[1])"
   ]
  },
  {
   "cell_type": "code",
   "execution_count": 3,
   "metadata": {},
   "outputs": [
    {
     "name": "stdout",
     "output_type": "stream",
     "text": [
      "[('r', 3)]\n",
      "r\n"
     ]
    }
   ],
   "source": [
    "def KNN(data,predict,k=3):\n",
    "    if len(data) >= k:\n",
    "        warnings.warn('K is set to a value less than total voting groups')\n",
    "    distances = []\n",
    "    for group in data:\n",
    "        for features in data[group]:\n",
    "            euclidean_distance = np.linalg.norm(np.array(features) - np.array(predict))\n",
    "            distances.append([euclidean_distance,group])\n",
    "    votes = [i[1] for i in sorted(distances)[:k]]\n",
    "    print(Counter(votes).most_common(1))\n",
    "    vote_result = Counter(votes).most_common(1)[0][0]\n",
    "    \n",
    "    return vote_result\n",
    "result = KNN(dataset, new_feature, k=3)\n",
    "print(result)"
   ]
  },
  {
   "cell_type": "code",
   "execution_count": 5,
   "metadata": {},
   "outputs": [
    {
     "name": "stdout",
     "output_type": "stream",
     "text": [
      "[[5.0, 1.0, 1.0, 1.0, 2.0, 1.0, 3.0, 1.0, 1.0, 2.0], [5.0, 4.0, 4.0, 5.0, 7.0, 10.0, 3.0, 2.0, 1.0, 2.0], [3.0, 1.0, 1.0, 1.0, 2.0, 2.0, 3.0, 1.0, 1.0, 2.0], [6.0, 8.0, 8.0, 1.0, 3.0, 4.0, 3.0, 7.0, 1.0, 2.0], [4.0, 1.0, 1.0, 3.0, 2.0, 1.0, 3.0, 1.0, 1.0, 2.0], [8.0, 10.0, 10.0, 8.0, 7.0, 10.0, 9.0, 7.0, 1.0, 4.0], [1.0, 1.0, 1.0, 1.0, 2.0, 10.0, 3.0, 1.0, 1.0, 2.0], [2.0, 1.0, 2.0, 1.0, 2.0, 1.0, 3.0, 1.0, 1.0, 2.0], [2.0, 1.0, 1.0, 1.0, 2.0, 1.0, 1.0, 1.0, 5.0, 2.0], [4.0, 2.0, 1.0, 1.0, 2.0, 1.0, 2.0, 1.0, 1.0, 2.0]]\n"
     ]
    }
   ],
   "source": [
    "df = pd.read_csv(\"breast-cancer-wisconsin (1).data\")\n",
    "df.replace('?',-99999, inplace = True)\n",
    "df.drop('id',1,inplace=True)\n",
    "full_data = df.astype(float).values.tolist()\n",
    "print(full_data[:10])"
   ]
  },
  {
   "cell_type": "code",
   "execution_count": 6,
   "metadata": {},
   "outputs": [
    {
     "name": "stdout",
     "output_type": "stream",
     "text": [
      "[[5.0, 1.0, 1.0, 1.0, 2.0, 1.0, 3.0, 1.0, 1.0, 2.0], [5.0, 4.0, 4.0, 5.0, 7.0, 10.0, 3.0, 2.0, 1.0, 2.0], [3.0, 1.0, 1.0, 1.0, 2.0, 2.0, 3.0, 1.0, 1.0, 2.0], [6.0, 8.0, 8.0, 1.0, 3.0, 4.0, 3.0, 7.0, 1.0, 2.0], [4.0, 1.0, 1.0, 3.0, 2.0, 1.0, 3.0, 1.0, 1.0, 2.0]]\n"
     ]
    }
   ],
   "source": [
    "random.shuffle(full_data[:5])\n",
    "print(full_data[:5])"
   ]
  },
  {
   "cell_type": "code",
   "execution_count": 7,
   "metadata": {},
   "outputs": [
    {
     "name": "stdout",
     "output_type": "stream",
     "text": [
      "[(2, 75)]\n",
      "[(2, 75)]\n",
      "[(2, 75)]\n",
      "[(2, 75)]\n",
      "[(2, 75)]\n",
      "[(2, 75)]\n",
      "[(2, 75)]\n",
      "[(2, 75)]\n",
      "[(2, 75)]\n",
      "[(2, 75)]\n",
      "[(2, 75)]\n",
      "[(2, 75)]\n",
      "[(2, 75)]\n",
      "[(2, 75)]\n",
      "[(2, 75)]\n",
      "[(2, 75)]\n",
      "[(2, 75)]\n",
      "[(2, 75)]\n",
      "[(2, 75)]\n",
      "[(2, 75)]\n",
      "[(2, 75)]\n",
      "[(2, 75)]\n",
      "[(2, 75)]\n",
      "[(2, 75)]\n",
      "[(2, 75)]\n",
      "[(2, 75)]\n",
      "[(2, 75)]\n",
      "[(2, 75)]\n",
      "[(2, 75)]\n",
      "[(2, 75)]\n",
      "[(2, 75)]\n",
      "[(2, 75)]\n",
      "[(2, 75)]\n",
      "[(2, 75)]\n",
      "[(2, 75)]\n",
      "[(2, 75)]\n",
      "[(2, 75)]\n",
      "[(2, 75)]\n",
      "[(2, 75)]\n",
      "[(2, 75)]\n",
      "[(2, 75)]\n",
      "[(2, 75)]\n",
      "[(2, 75)]\n",
      "[(2, 75)]\n",
      "[(2, 75)]\n",
      "[(2, 75)]\n",
      "[(2, 75)]\n",
      "[(2, 75)]\n",
      "[(2, 75)]\n",
      "[(2, 75)]\n",
      "[(2, 75)]\n",
      "[(2, 75)]\n",
      "[(2, 75)]\n",
      "[(2, 75)]\n",
      "[(2, 75)]\n",
      "[(2, 75)]\n",
      "[(2, 75)]\n",
      "[(2, 75)]\n",
      "[(2, 75)]\n",
      "[(2, 75)]\n",
      "[(2, 75)]\n",
      "[(2, 75)]\n",
      "[(2, 75)]\n",
      "[(2, 75)]\n",
      "[(2, 75)]\n",
      "[(2, 75)]\n",
      "[(2, 75)]\n",
      "[(2, 75)]\n",
      "[(2, 75)]\n",
      "[(2, 75)]\n",
      "[(2, 75)]\n",
      "[(2, 75)]\n",
      "[(2, 75)]\n",
      "[(2, 75)]\n",
      "[(2, 75)]\n",
      "[(2, 75)]\n",
      "[(2, 75)]\n",
      "[(2, 75)]\n",
      "[(2, 75)]\n",
      "[(2, 75)]\n",
      "[(2, 75)]\n",
      "[(2, 75)]\n",
      "[(2, 75)]\n",
      "[(2, 75)]\n",
      "[(2, 75)]\n",
      "[(2, 75)]\n",
      "[(2, 75)]\n",
      "[(2, 75)]\n",
      "[(2, 75)]\n",
      "[(2, 75)]\n",
      "[(2, 75)]\n",
      "[(2, 75)]\n",
      "[(2, 75)]\n",
      "[(2, 75)]\n",
      "[(2, 75)]\n",
      "[(2, 75)]\n",
      "[(2, 75)]\n",
      "[(2, 75)]\n",
      "[(2, 75)]\n",
      "[(2, 75)]\n",
      "[(2, 75)]\n",
      "[(2, 75)]\n",
      "[(2, 75)]\n",
      "[(2, 75)]\n",
      "[(4, 75)]\n",
      "[(4, 75)]\n",
      "[(4, 75)]\n",
      "[(4, 75)]\n",
      "[(4, 75)]\n",
      "[(4, 75)]\n",
      "[(4, 75)]\n",
      "[(4, 75)]\n",
      "[(4, 75)]\n",
      "[(4, 75)]\n",
      "[(4, 75)]\n",
      "[(4, 75)]\n",
      "[(4, 75)]\n",
      "[(4, 75)]\n",
      "[(4, 75)]\n",
      "[(4, 75)]\n",
      "[(4, 75)]\n",
      "[(4, 75)]\n",
      "[(4, 75)]\n",
      "[(4, 75)]\n",
      "[(4, 75)]\n",
      "[(4, 75)]\n",
      "[(4, 75)]\n",
      "[(4, 75)]\n",
      "[(4, 75)]\n",
      "[(4, 75)]\n",
      "[(4, 75)]\n",
      "[(4, 75)]\n",
      "[(4, 75)]\n",
      "[(4, 75)]\n",
      "[(4, 75)]\n",
      "[(4, 75)]\n",
      "[(4, 75)]\n",
      "[(4, 75)]\n",
      "[(4, 75)]\n",
      "Accuracy 1.0\n"
     ]
    }
   ],
   "source": [
    "test_size = 0.2\n",
    "train_set = {2:[], 4:[]}\n",
    "test_set = {2:[], 4:[]}\n",
    "train_data = full_data[:-int(test_size*len(full_data))]\n",
    "test_data = full_data[-int(test_size*len(full_data)):]\n",
    "\n",
    "for i in train_data:\n",
    "    train_set[i[-1]].append(i[-1:])\n",
    "for i in test_data:\n",
    "    test_set[i[-1]].append(i[-1:])\n",
    "\n",
    "    \n",
    "correct = 0\n",
    "total = 0\n",
    "\n",
    "for group in test_set:\n",
    "    for data in test_set[group]:\n",
    "        vote = KNN(train_set, data,k=75)\n",
    "        if group ==vote:\n",
    "            correct+=1\n",
    "        total+=1\n",
    "\n",
    "        \n",
    "print('Accuracy',correct/total)"
   ]
  },
  {
   "cell_type": "code",
   "execution_count": null,
   "metadata": {},
   "outputs": [],
   "source": []
  },
  {
   "cell_type": "code",
   "execution_count": null,
   "metadata": {},
   "outputs": [],
   "source": []
  }
 ],
 "metadata": {
  "kernelspec": {
   "display_name": "Python 3",
   "language": "python",
   "name": "python3"
  },
  "language_info": {
   "codemirror_mode": {
    "name": "ipython",
    "version": 3
   },
   "file_extension": ".py",
   "mimetype": "text/x-python",
   "name": "python",
   "nbconvert_exporter": "python",
   "pygments_lexer": "ipython3",
   "version": "3.7.6"
  }
 },
 "nbformat": 4,
 "nbformat_minor": 4
}
